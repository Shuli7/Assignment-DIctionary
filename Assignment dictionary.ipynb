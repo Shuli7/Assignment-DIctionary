{
 "cells": [
  {
   "cell_type": "markdown",
   "id": "e64720eb-fac0-48e8-9c3b-aa7b3de83a7d",
   "metadata": {},
   "source": [
    "Q1. What are the characteristics of the tuples? Is tuple immutable?"
   ]
  },
  {
   "cell_type": "code",
   "execution_count": 1,
   "id": "7d238072-9ca0-423c-ab35-54b1ad35cc26",
   "metadata": {},
   "outputs": [],
   "source": [
    "#Tuple is used with () brackets\n",
    "#tuple is immutable \n",
    "#tuple is iterative\n",
    "#Tuple is a collection of objects separated by commas"
   ]
  },
  {
   "cell_type": "markdown",
   "id": "06de1bf4-2cec-4bdd-93a5-1f7442071346",
   "metadata": {},
   "source": [
    "Q2.What are the two tuple methods in python? Give an example of each method. Give a reason why\n",
    "tuples have only two in-built methods as compared to Lists."
   ]
  },
  {
   "cell_type": "code",
   "execution_count": 3,
   "id": "708d6ea6-9f2b-4224-bea6-929fd321106d",
   "metadata": {},
   "outputs": [],
   "source": [
    "#tuple has count and index method\n",
    "player = ('rohit','virat','sachin')\n",
    "jersey = (10,7,9)"
   ]
  },
  {
   "cell_type": "code",
   "execution_count": 6,
   "id": "21bff42b-3a4e-4418-a18a-ac72cd50b1f2",
   "metadata": {},
   "outputs": [
    {
     "data": {
      "text/plain": [
       "1"
      ]
     },
     "execution_count": 6,
     "metadata": {},
     "output_type": "execute_result"
    }
   ],
   "source": [
    "player.count('sachin')"
   ]
  },
  {
   "cell_type": "code",
   "execution_count": 12,
   "id": "ecb8a393-034a-425c-a74e-714341909e1e",
   "metadata": {},
   "outputs": [
    {
     "data": {
      "text/plain": [
       "1"
      ]
     },
     "execution_count": 12,
     "metadata": {},
     "output_type": "execute_result"
    }
   ],
   "source": [
    "jersey.index(7)"
   ]
  },
  {
   "cell_type": "code",
   "execution_count": 13,
   "id": "6a6fda4b-b85f-43c5-ade7-de200966abeb",
   "metadata": {},
   "outputs": [],
   "source": [
    "#tuples are immutable objects the lists are mutable. This means that tuples cannot be changed while the lists can be modified"
   ]
  },
  {
   "cell_type": "markdown",
   "id": "fe995e3a-962e-481c-b208-c52795b8fe25",
   "metadata": {},
   "source": [
    "Q3. Which collection datatypes in python do not allow duplicate items? Write a code using a set to remove\n",
    "duplicates from the given list."
   ]
  },
  {
   "cell_type": "code",
   "execution_count": 14,
   "id": "2a21b10a-b987-495f-b563-8442b597e80a",
   "metadata": {},
   "outputs": [],
   "source": [
    "#SET DOESNT ALLOW DUPLICATES"
   ]
  },
  {
   "cell_type": "code",
   "execution_count": 18,
   "id": "8dc78176-3e82-47c2-bffa-a5578f448fc1",
   "metadata": {},
   "outputs": [
    {
     "name": "stdout",
     "output_type": "stream",
     "text": [
      "{9, 10, 4, 7}\n"
     ]
    }
   ],
   "source": [
    "jersey = {10,7,9,9,4,7}\n",
    "print(jersey)"
   ]
  },
  {
   "cell_type": "code",
   "execution_count": 21,
   "id": "85fa5714-17cd-427e-89f4-2f4f0a628bb8",
   "metadata": {},
   "outputs": [],
   "source": [
    "List = [1, 1, 1, 2, 1, 3, 1, 4, 2, 1, 2, 2, 2, 3, 2, 4, 3, 1, 3, 2, 3, 3, 3, 4, 4, 1, 4, 2, 4, 3, 4, 4]\n",
    "list1 = set([1, 1, 1, 2, 1, 3, 1, 4, 2, 1, 2, 2, 2, 3, 2, 4, 3, 1, 3, 2, 3, 3, 3, 4, 4, 1, 4, 2, 4, 3, 4, 4])"
   ]
  },
  {
   "cell_type": "code",
   "execution_count": 22,
   "id": "fdec5a5d-f3a9-45a4-9dad-64ad46925fcd",
   "metadata": {},
   "outputs": [
    {
     "name": "stdout",
     "output_type": "stream",
     "text": [
      "{1, 2, 3, 4}\n"
     ]
    }
   ],
   "source": [
    "print(list1)"
   ]
  },
  {
   "cell_type": "markdown",
   "id": "fe1be62b-a180-4f96-9fcd-31717681e3e2",
   "metadata": {},
   "source": [
    "Q4. Explain the difference between the union() and update() methods for a set. Give an example of\n",
    "each method."
   ]
  },
  {
   "cell_type": "code",
   "execution_count": 25,
   "id": "d0a457c0-6382-496c-b0d3-6999d84880c3",
   "metadata": {},
   "outputs": [],
   "source": [
    "player = set(['rohit','virat','sachin',9,15,2])\n",
    "jersey = set([10,7,9,'virat'])"
   ]
  },
  {
   "cell_type": "code",
   "execution_count": 33,
   "id": "56219ff1-72a6-4109-8991-7d8c398cba2c",
   "metadata": {},
   "outputs": [
    {
     "data": {
      "text/plain": [
       "{10, 15, 2, 7, 9, 'a', 'i', 'k', 'r', 'rohit', 'sachin', 't', 'virat'}"
      ]
     },
     "execution_count": 33,
     "metadata": {},
     "output_type": "execute_result"
    }
   ],
   "source": [
    "player.union(jersey)"
   ]
  },
  {
   "cell_type": "code",
   "execution_count": 34,
   "id": "cc7404b8-d470-4d71-9c9c-59c0e1783ba3",
   "metadata": {},
   "outputs": [],
   "source": [
    "player = set(['rohit','virat','sachin',9,15,2])\n",
    "jersey = set([10,7,9,'virat'])"
   ]
  },
  {
   "cell_type": "code",
   "execution_count": 38,
   "id": "3deda171-38c6-4c53-abb3-ec5687f10e7b",
   "metadata": {},
   "outputs": [
    {
     "name": "stdout",
     "output_type": "stream",
     "text": [
      "{2, 7, 'rohit', 9, 10, 15, 'sachin', 'virat'}\n"
     ]
    }
   ],
   "source": [
    "player.update(jersey)\n",
    "print(player)"
   ]
  },
  {
   "cell_type": "markdown",
   "id": "146124d4-5c19-4e46-b001-e8ca3d3b71c5",
   "metadata": {},
   "source": [
    "Q5. What is a dictionary? Give an example. Also, state whether a dictionary is ordered or unordered."
   ]
  },
  {
   "cell_type": "code",
   "execution_count": 39,
   "id": "1cfca532-682d-447d-93fa-332e3f7e4df3",
   "metadata": {},
   "outputs": [],
   "source": [
    "#dictionary is collection of key and values, Values in a dictionary can be of any data type and can be duplicated, \n",
    "#whereas keys can’t be repeated and must be immutable. \n",
    "#is mutable, dynamic & can be nested.  dictionary can contain another dictionary."
   ]
  },
  {
   "cell_type": "markdown",
   "id": "b22a3e2d-18ef-4ae6-bf90-84b2c63ae822",
   "metadata": {},
   "source": [
    "Can we create a nested dictionary? If so, please give an example by creating a simple one-level\n",
    "nested dictionary."
   ]
  },
  {
   "cell_type": "code",
   "execution_count": 50,
   "id": "4cbb51b5-a99d-42c6-92d3-ddb4d55e0b1e",
   "metadata": {},
   "outputs": [
    {
     "name": "stdout",
     "output_type": "stream",
     "text": [
      "{1: 'math', 2: 'science', 3: 'history', 7: {'optional': 'hindi'}}\n"
     ]
    }
   ],
   "source": [
    "#Yes\n",
    "subject = {1:'math', 2:'science', 3:'history', 7: {'optional':'hindi'}}\n",
    "print(subject)"
   ]
  },
  {
   "cell_type": "code",
   "execution_count": 47,
   "id": "b586df3f-81f3-41b3-bda9-4e444b963378",
   "metadata": {},
   "outputs": [
    {
     "name": "stdout",
     "output_type": "stream",
     "text": [
      "{1: 'Geeks', 2: 'For', 3: {'A': 'Welcome', 'B': 'To', 'C': 'Geeks'}}\n"
     ]
    }
   ],
   "source": [
    "Dict = {1: 'Geeks', 2: 'For',\n",
    "        3: {'A': 'Welcome', 'B': 'To', 'C': 'Geeks'}}\n",
    "  \n",
    "print(Dict)"
   ]
  },
  {
   "cell_type": "markdown",
   "id": "1bc9acc3-9d4c-4220-a387-c91503b099cb",
   "metadata": {},
   "source": [
    "Q7. Using setdefault() method, create key named topics in the given dictionary and also add the value of\n",
    "the key as this list ['Python', 'Machine Learning’, 'Deep Learning']"
   ]
  },
  {
   "cell_type": "code",
   "execution_count": 2,
   "id": "d7cb7272-4de5-485b-b7a7-fbb7569608b4",
   "metadata": {},
   "outputs": [],
   "source": [
    "dict1 = {'language' : 'Python', 'course': 'Data Science Masters'}"
   ]
  },
  {
   "cell_type": "code",
   "execution_count": 6,
   "id": "b4b58c6c-8c38-481d-8ebb-a32a25103d85",
   "metadata": {},
   "outputs": [],
   "source": [
    "x = dict1.setdefault('language')"
   ]
  },
  {
   "cell_type": "code",
   "execution_count": 8,
   "id": "7c09c3b8-473b-434d-ba9b-ba155df62060",
   "metadata": {
    "tags": []
   },
   "outputs": [
    {
     "name": "stdout",
     "output_type": "stream",
     "text": [
      "i have enrolled for course Python\n"
     ]
    }
   ],
   "source": [
    "print(\"i have enrolled for course\",x)"
   ]
  },
  {
   "cell_type": "markdown",
   "id": "0ba4a0be-6266-4474-9616-453e6c37f7d6",
   "metadata": {
    "tags": []
   },
   "source": [
    "Q8. What are the three view objects in dictionaries? Use the three in-built methods in python to display\n",
    "these three view objects for the given dictionary.\n",
    "\n",
    "dict1 = {'Sport': 'Cricket' , 'Teams': ['India', 'Australia', 'England', 'South Africa', 'Sri Lanka', 'New Zealand']}"
   ]
  },
  {
   "cell_type": "code",
   "execution_count": 9,
   "id": "69e5b8c8-71ae-4df1-8224-268ef35cc857",
   "metadata": {},
   "outputs": [],
   "source": [
    "## view objects of dictionary in python are keys, values and items"
   ]
  },
  {
   "cell_type": "code",
   "execution_count": 14,
   "id": "0907c434-777a-41ef-b17f-e356d1ffe199",
   "metadata": {},
   "outputs": [
    {
     "name": "stdout",
     "output_type": "stream",
     "text": [
      "dict_keys(['Sport', 'Teams'])\n"
     ]
    }
   ],
   "source": [
    "dict1 = {'Sport': 'Cricket' , 'Teams': ['India', 'Australia', 'England', 'South Africa', 'Sri Lanka', 'New Zealand']}\n",
    "print(dict1.keys())"
   ]
  },
  {
   "cell_type": "code",
   "execution_count": 15,
   "id": "274f8af9-7987-4085-a0ed-29eae353884d",
   "metadata": {},
   "outputs": [
    {
     "name": "stdout",
     "output_type": "stream",
     "text": [
      "dict_values(['Cricket', ['India', 'Australia', 'England', 'South Africa', 'Sri Lanka', 'New Zealand']])\n"
     ]
    }
   ],
   "source": [
    "print(dict1.values())"
   ]
  },
  {
   "cell_type": "code",
   "execution_count": 16,
   "id": "0dd8b619-ad47-4cdb-b053-d61b5f086623",
   "metadata": {},
   "outputs": [
    {
     "name": "stdout",
     "output_type": "stream",
     "text": [
      "dict_items([('Sport', 'Cricket'), ('Teams', ['India', 'Australia', 'England', 'South Africa', 'Sri Lanka', 'New Zealand'])])\n"
     ]
    }
   ],
   "source": [
    "print(dict1.items())"
   ]
  },
  {
   "cell_type": "code",
   "execution_count": null,
   "id": "e47ea874-dcc7-4c56-8eed-b5332f1325eb",
   "metadata": {},
   "outputs": [],
   "source": []
  }
 ],
 "metadata": {
  "kernelspec": {
   "display_name": "Python 3 (ipykernel)",
   "language": "python",
   "name": "python3"
  },
  "language_info": {
   "codemirror_mode": {
    "name": "ipython",
    "version": 3
   },
   "file_extension": ".py",
   "mimetype": "text/x-python",
   "name": "python",
   "nbconvert_exporter": "python",
   "pygments_lexer": "ipython3",
   "version": "3.10.8"
  }
 },
 "nbformat": 4,
 "nbformat_minor": 5
}
