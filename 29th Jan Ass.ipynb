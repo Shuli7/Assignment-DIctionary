{
 "cells": [
  {
   "cell_type": "markdown",
   "id": "e8784aea-0e5a-4f18-8df2-4727a35e7579",
   "metadata": {},
   "source": [
    "1. who developed python language"
   ]
  },
  {
   "cell_type": "markdown",
   "id": "5c9be11f-fc46-4c2e-9d4a-250c06d51cdd",
   "metadata": {},
   "source": [
    "Guido van Rossum"
   ]
  },
  {
   "cell_type": "markdown",
   "id": "f8fea86a-59bc-4a97-acbe-2df865297a14",
   "metadata": {},
   "source": [
    "2. Which type of Programming does Python support?"
   ]
  },
  {
   "cell_type": "markdown",
   "id": "e4e243a2-8095-41a0-975f-46d8d8a733e1",
   "metadata": {},
   "source": [
    "Python is an interpreted programming language, which supports object-oriented, structured, and functional programming.\n"
   ]
  },
  {
   "cell_type": "markdown",
   "id": "987eac0a-1b70-4d09-a6dd-3e2a25d234e3",
   "metadata": {},
   "source": [
    "3. Is Python case sensitive when dealing with identifiers?"
   ]
  },
  {
   "cell_type": "markdown",
   "id": "e5c7eaf3-abfb-4435-ada4-d5eda60f7148",
   "metadata": {},
   "source": [
    "Yes"
   ]
  },
  {
   "cell_type": "markdown",
   "id": "29f4c288-054c-46f4-a166-4968e0c1c63f",
   "metadata": {},
   "source": [
    "4. What is the correct extension of the Python file?"
   ]
  },
  {
   "cell_type": "markdown",
   "id": "db62eb3d-b8bf-4d78-9140-137d2efff7aa",
   "metadata": {},
   "source": [
    ".py"
   ]
  },
  {
   "cell_type": "markdown",
   "id": "f0cc0a98-71c2-4ca6-9f5b-c7e2d2dd3e57",
   "metadata": {},
   "source": [
    "5. Is Python code compiled or interpreted?"
   ]
  },
  {
   "cell_type": "markdown",
   "id": "8f97b46b-b41c-4f55-80a1-10b5519dd74f",
   "metadata": {},
   "source": [
    "both"
   ]
  },
  {
   "cell_type": "markdown",
   "id": "c0f7e9e7-7e50-4c87-b7db-e03bd4e3113d",
   "metadata": {},
   "source": [
    "6. Name few blocks of code used to define a in Python language"
   ]
  },
  {
   "cell_type": "markdown",
   "id": "e57b6b55-04d1-4113-ae0e-e30fe5da0d36",
   "metadata": {},
   "source": [
    "The following are blocks: a module, a function body, and a class definition"
   ]
  },
  {
   "cell_type": "markdown",
   "id": "4dadad9e-5742-4a67-ad3e-6cbadce16cb0",
   "metadata": {},
   "source": [
    "7. Name character used to give single-line comments in Python?"
   ]
  },
  {
   "cell_type": "code",
   "execution_count": 4,
   "id": "e2496d1d-3451-40aa-a4b9-5c5b68618583",
   "metadata": {},
   "outputs": [],
   "source": [
    "#"
   ]
  },
  {
   "cell_type": "markdown",
   "id": "073ccd75-baa8-42a2-b09d-b7761e857c79",
   "metadata": {},
   "source": [
    "8.Mention functions which help us to find the version of python that we are currently working on?"
   ]
  },
  {
   "cell_type": "markdown",
   "id": "334d1b60-9d0a-43dc-aaf3-3714e9edd594",
   "metadata": {},
   "source": [
    "sys.version"
   ]
  },
  {
   "cell_type": "markdown",
   "id": "14058b0b-7787-4cf0-bfa4-8c58bf668a0e",
   "metadata": {},
   "source": [
    "9. Python supports the creation of anonymous functions at runtime, using a construct called __________"
   ]
  },
  {
   "cell_type": "markdown",
   "id": "f3745aa8-6494-40cc-8e7e-41d8dc6fc62d",
   "metadata": {},
   "source": [
    "Lambda"
   ]
  },
  {
   "cell_type": "markdown",
   "id": "2166de75-139e-4b67-8708-5978bd871ad3",
   "metadata": {},
   "source": [
    "10. What does pip stand for python?"
   ]
  },
  {
   "cell_type": "markdown",
   "id": "83042241-1e2b-4d30-b4fa-afb2f231ca56",
   "metadata": {},
   "source": [
    "pip is a package manager for python, known as Preferred Installer Program"
   ]
  },
  {
   "cell_type": "markdown",
   "id": "8a7f220b-74ff-4ac9-8b22-85763ce897c2",
   "metadata": {},
   "source": [
    "11. Mention few in built functions in python"
   ]
  },
  {
   "cell_type": "markdown",
   "id": "bc4baeb5-1283-40e8-a4c2-43340ad5cbad",
   "metadata": {},
   "source": [
    "print(), len(), type(), dir()"
   ]
  },
  {
   "cell_type": "markdown",
   "id": "94be415d-d90c-47dd-a034-b9dd37cc23d5",
   "metadata": {},
   "source": [
    "12. What is the maximum possible length of an identifier in Python?"
   ]
  },
  {
   "cell_type": "markdown",
   "id": "9dcd6470-e5cd-4787-984e-8bd7bf161cc5",
   "metadata": {},
   "source": [
    "Identifiers can be of any length."
   ]
  },
  {
   "cell_type": "markdown",
   "id": "162e4c1c-b153-4322-8e2f-45fe15a4c1ef",
   "metadata": {},
   "source": [
    "13. What are the benefits of using python"
   ]
  },
  {
   "cell_type": "markdown",
   "id": "5ec8b2e1-b609-46a7-86ed-8f15f8bb2f40",
   "metadata": {},
   "source": [
    "Easy to understand and write,\n",
    "Extensive libraries,\n",
    "Free and Open-Source,\n",
    "Large developer community"
   ]
  },
  {
   "cell_type": "markdown",
   "id": "c3f1aab5-f262-4e80-a854-185b3c05edc9",
   "metadata": {},
   "source": [
    "14. how is memory managed in python"
   ]
  },
  {
   "cell_type": "markdown",
   "id": "97d9310c-5a12-44e1-9f29-1b7bd4bcd759",
   "metadata": {},
   "source": [
    "Memory management in Python involves a private heap containing all Python objects and data structures. The management of this private heap is ensured internally by the Python memory manager."
   ]
  },
  {
   "cell_type": "markdown",
   "id": "0aa69f4e-d468-4f7d-ac30-b13fb421a9d1",
   "metadata": {},
   "source": [
    "15. how to install python in windows and set path variables"
   ]
  },
  {
   "cell_type": "markdown",
   "id": "67dbf94a-4cb8-4800-841e-c724276b2c96",
   "metadata": {},
   "source": [
    " visit www.python.org, which is the official Python website. Click on the Downloads tab and then select the Windows option."
   ]
  },
  {
   "cell_type": "markdown",
   "id": "19737191-4569-494b-8e90-efe8ed2a0a0c",
   "metadata": {},
   "source": [
    "The complete path of python.exe can be added by:\n",
    "\n",
    "Right-clicking This PC and going to Properties.\n",
    "\n",
    "Clicking on the Advanced system settings in the menu on the left.\n",
    "\n",
    "Clicking on the Environment Variables button o​n the bottom right.\n",
    "\n",
    "In the System variables section, selecting the Path variable and clicking on Edit. The next screen will show all the directories that are currently a part of the PATH variable.\n",
    "\n",
    "Clicking on New and entering Python’s install directory."
   ]
  },
  {
   "cell_type": "markdown",
   "id": "b7e6a4e2-12ed-4ecc-bda0-03540c0a90f8",
   "metadata": {},
   "source": [
    "16. is indentation required in python?"
   ]
  },
  {
   "cell_type": "markdown",
   "id": "10327330-d247-43fc-8ffb-ce555c80b4cc",
   "metadata": {},
   "source": [
    "Yes, indentation is basic block of python"
   ]
  },
  {
   "cell_type": "code",
   "execution_count": null,
   "id": "f0fe6faa-7ef0-41d0-8068-dfd13f637e92",
   "metadata": {},
   "outputs": [],
   "source": []
  }
 ],
 "metadata": {
  "kernelspec": {
   "display_name": "Python 3 (ipykernel)",
   "language": "python",
   "name": "python3"
  },
  "language_info": {
   "codemirror_mode": {
    "name": "ipython",
    "version": 3
   },
   "file_extension": ".py",
   "mimetype": "text/x-python",
   "name": "python",
   "nbconvert_exporter": "python",
   "pygments_lexer": "ipython3",
   "version": "3.10.8"
  }
 },
 "nbformat": 4,
 "nbformat_minor": 5
}
