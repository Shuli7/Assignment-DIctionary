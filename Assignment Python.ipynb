{
 "cells": [
  {
   "cell_type": "markdown",
   "id": "67f383c0-0e32-4783-b00d-196243263b88",
   "metadata": {},
   "source": [
    "Q1. Create a python program to sort the given list of tuples based on integer value using a\n",
    "lambda function."
   ]
  },
  {
   "cell_type": "code",
   "execution_count": 1,
   "id": "307590fc-f277-4f54-b004-8a59becaabd6",
   "metadata": {},
   "outputs": [],
   "source": [
    "player_runs=[('Sachin Tendulkar', 34357), ('Ricky Ponting', 27483), ('Jack Kallis', 25534), ('Virat Kohli', 24936)]"
   ]
  },
  {
   "cell_type": "code",
   "execution_count": 15,
   "id": "eebb89ca-b0c2-41c7-ab63-33ec0efccd17",
   "metadata": {},
   "outputs": [
    {
     "name": "stdout",
     "output_type": "stream",
     "text": [
      "[('Virat Kohli', 24936), ('Jack Kallis', 25534), ('Ricky Ponting', 27483), ('Sachin Tendulkar', 34357)]\n"
     ]
    }
   ],
   "source": [
    "player_runs.sort(key = lambda x: x[1])\n",
    "print (player_runs)"
   ]
  },
  {
   "cell_type": "markdown",
   "id": "876fdd34-4827-4fdd-9c42-f2578a80faec",
   "metadata": {},
   "source": [
    "Q2. Write a Python Program to find the squares of all the numbers in the given list of integers using\n",
    "lambda and map functions."
   ]
  },
  {
   "cell_type": "code",
   "execution_count": 16,
   "id": "2b6fbcc9-89ca-4421-b03f-e132deec22cb",
   "metadata": {},
   "outputs": [],
   "source": [
    "l = [1, 2, 3, 4, 5, 6, 7, 8, 9, 10]"
   ]
  },
  {
   "cell_type": "code",
   "execution_count": 20,
   "id": "8f35ef33-6207-4738-816b-73521bea5488",
   "metadata": {},
   "outputs": [
    {
     "data": {
      "text/plain": [
       "[1, 4, 9, 16, 25, 36, 49, 64, 81, 100]"
      ]
     },
     "execution_count": 20,
     "metadata": {},
     "output_type": "execute_result"
    }
   ],
   "source": [
    "list(map(lambda x: x**2,l))"
   ]
  },
  {
   "cell_type": "markdown",
   "id": "9b846612-b11b-44a6-acf7-53c8c49fa0a4",
   "metadata": {},
   "source": [
    "Q3. Write a python program to convert the given list of integers into a tuple of strings. Use map and\n",
    "lambda functions\n",
    "Given String: [1, 2, 3, 4, 5, 6, 7, 8, 9, 10]\n",
    "Expected output: ('1', '2', '3', '4', '5', '6', '7', '8', '9', '10')"
   ]
  },
  {
   "cell_type": "code",
   "execution_count": 21,
   "id": "9c6b4a54-8d47-4196-ae8a-3a028c8dae8b",
   "metadata": {},
   "outputs": [],
   "source": [
    "l = [1, 2, 3, 4, 5, 6, 7, 8, 9, 10]"
   ]
  },
  {
   "cell_type": "code",
   "execution_count": 24,
   "id": "847fbf18-f3f4-45eb-9697-1329f20ddb55",
   "metadata": {},
   "outputs": [
    {
     "data": {
      "text/plain": [
       "('1', '2', '3', '4', '5', '6', '7', '8', '9', '10')"
      ]
     },
     "execution_count": 24,
     "metadata": {},
     "output_type": "execute_result"
    }
   ],
   "source": [
    "tuple(map(lambda x: str(x), l))"
   ]
  },
  {
   "cell_type": "markdown",
   "id": "ed54e800-5368-4b03-b622-d0201fa2cc57",
   "metadata": {},
   "source": [
    "Q4. Write a python program using reduce function to compute the product of a list containing numbers\n",
    "from 1 to 25."
   ]
  },
  {
   "cell_type": "code",
   "execution_count": 25,
   "id": "ccef4783-353d-4bac-a5fc-34fd980910ae",
   "metadata": {},
   "outputs": [],
   "source": [
    "l = [1,2,3,4,5,6,7,8,9,10,11,12,13,14,15,16,17,18,19,20,21,22,23,24,25]"
   ]
  },
  {
   "cell_type": "code",
   "execution_count": 26,
   "id": "b7c9fc4b-79dd-4aa4-a495-27f3ed125700",
   "metadata": {},
   "outputs": [
    {
     "data": {
      "text/plain": [
       "15511210043330985984000000"
      ]
     },
     "execution_count": 26,
     "metadata": {},
     "output_type": "execute_result"
    }
   ],
   "source": [
    "from functools import reduce\n",
    "reduce(lambda x,y: x*y,l)"
   ]
  },
  {
   "cell_type": "markdown",
   "id": "f5bd6f0d-cecc-443f-baa5-305dfa89665f",
   "metadata": {},
   "source": [
    "Q5. Write a python program to filter the numbers in a given list that are divisible by 2 and 3 using the\n",
    "filter function.\n",
    "[2, 3, 6, 9, 27, 60, 90, 120, 55, 46]"
   ]
  },
  {
   "cell_type": "code",
   "execution_count": 27,
   "id": "32713ac5-6ee6-47b0-b095-3f0a9dfab97a",
   "metadata": {},
   "outputs": [],
   "source": [
    "l =  [2, 3, 6, 9, 27, 60, 90, 120, 55, 46]"
   ]
  },
  {
   "cell_type": "code",
   "execution_count": 34,
   "id": "2f7d4092-3ffa-42f3-ae0a-4ce0f9209156",
   "metadata": {},
   "outputs": [
    {
     "data": {
      "text/plain": [
       "[2, 3, 6, 9, 27, 60, 90, 120, 46]"
      ]
     },
     "execution_count": 34,
     "metadata": {},
     "output_type": "execute_result"
    }
   ],
   "source": [
    "list(filter(lambda x : x%2==0 or x%3==0, l))"
   ]
  },
  {
   "cell_type": "markdown",
   "id": "74999059-9ec0-47cf-be06-6423caa0fddf",
   "metadata": {},
   "source": [
    "Q6. Write a python program to find palindromes in the given list of strings using lambda and filter\n",
    "function.\n",
    "['python', 'php', 'aba', 'radar', 'level']"
   ]
  },
  {
   "cell_type": "code",
   "execution_count": 35,
   "id": "bee4f249-7e15-4785-a957-d220d395028c",
   "metadata": {},
   "outputs": [
    {
     "data": {
      "text/plain": [
       "['php', 'aba', 'radar', 'level']"
      ]
     },
     "execution_count": 35,
     "metadata": {},
     "output_type": "execute_result"
    }
   ],
   "source": [
    "l =  ['python', 'php', 'aba', 'radar', 'level']\n",
    "\n",
    "list(filter(lambda x: x==\"\".join(reversed(x)),l))"
   ]
  },
  {
   "cell_type": "code",
   "execution_count": null,
   "id": "8b901111-5d11-4041-bec0-1348ad1943cf",
   "metadata": {},
   "outputs": [],
   "source": []
  }
 ],
 "metadata": {
  "kernelspec": {
   "display_name": "Python 3 (ipykernel)",
   "language": "python",
   "name": "python3"
  },
  "language_info": {
   "codemirror_mode": {
    "name": "ipython",
    "version": 3
   },
   "file_extension": ".py",
   "mimetype": "text/x-python",
   "name": "python",
   "nbconvert_exporter": "python",
   "pygments_lexer": "ipython3",
   "version": "3.10.8"
  }
 },
 "nbformat": 4,
 "nbformat_minor": 5
}
